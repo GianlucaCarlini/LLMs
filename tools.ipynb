{
 "cells": [
  {
   "cell_type": "code",
   "execution_count": 1,
   "metadata": {},
   "outputs": [],
   "source": [
    "from langchain import document_loaders as dl\n",
    "from langchain import embeddings\n",
    "from langchain.chains.combine_documents import create_stuff_documents_chain\n",
    "from langchain import text_splitter as ts\n",
    "from langchain_community.vectorstores import FAISS\n",
    "from langchain_community.docstore.in_memory import InMemoryDocstore\n",
    "from langchain_ollama import OllamaEmbeddings, ChatOllama\n",
    "from langchain_core.tools import tool\n",
    "from langchain_core.tools.retriever import create_retriever_tool\n",
    "import torch\n",
    "import faiss\n",
    "from typing import Annotated, Sequence, Literal, List\n",
    "from typing_extensions import TypedDict\n",
    "from langchain_core.messages import BaseMessage, HumanMessage\n",
    "from langgraph.graph.message import add_messages\n",
    "from langchain_core.output_parsers import StrOutputParser\n",
    "from langchain_core.prompts import PromptTemplate\n",
    "from pydantic import BaseModel, Field\n",
    "from langgraph.prebuilt import tools_condition\n",
    "from langgraph.prebuilt import create_react_agent\n",
    "from langgraph.checkpoint.memory import MemorySaver\n",
    "from langchain_core.messages import SystemMessage\n",
    "from langchain_core.prompts import ChatPromptTemplate\n",
    "from IPython.display import Image, display\n",
    "import os\n",
    "from langchain import hub\n",
    "from langgraph.graph import END, StateGraph, START\n",
    "from langgraph.prebuilt import ToolNode, create_react_agent\n",
    "import json\n",
    "import numexpr\n",
    "import math\n",
    "os.environ[\"KMP_DUPLICATE_LIB_OK\"]=\"TRUE\""
   ]
  },
  {
   "cell_type": "code",
   "execution_count": 2,
   "metadata": {},
   "outputs": [
    {
     "name": "stderr",
     "output_type": "stream",
     "text": [
      "  0%|          | 0/35 [00:00<?, ?it/s]"
     ]
    },
    {
     "name": "stderr",
     "output_type": "stream",
     "text": [
      "100%|██████████| 35/35 [00:28<00:00,  1.22it/s]\n"
     ]
    }
   ],
   "source": [
    "dir_path = 'C:/Users/Carlini/OneDrive - Alma Mater Studiorum Università di Bologna/Articoli/MS'\n",
    "\n",
    "loader = dl.DirectoryLoader(dir_path, glob='*.pdf', loader_cls=dl.PyPDFLoader, show_progress=True)\n",
    "doc = loader.load()\n",
    "\n",
    "text_splitter = ts.RecursiveCharacterTextSplitter(chunk_size=1000, chunk_overlap=200)\n",
    "\n",
    "all_splits = text_splitter.split_documents(doc)"
   ]
  },
  {
   "cell_type": "code",
   "execution_count": 3,
   "metadata": {},
   "outputs": [],
   "source": [
    "embeddings = OllamaEmbeddings(model=\"mxbai-embed-large\")\n",
    "\n",
    "index = faiss.IndexFlatL2(len(embeddings.embed_query(\"Hello world!\")))\n",
    "\n",
    "vector_store = FAISS(embedding_function=embeddings, index=index, docstore=InMemoryDocstore(), index_to_docstore_id={})\n",
    "\n",
    "_ = vector_store.add_documents(all_splits)\n"
   ]
  },
  {
   "cell_type": "code",
   "execution_count": 4,
   "metadata": {},
   "outputs": [],
   "source": [
    "retriever = vector_store.as_retriever(search_kwargs={\"k\": 5})\n",
    "\n",
    "retriever_tool = create_retriever_tool(\n",
    "    retriever,\n",
    "    \"retriever\",\n",
    "    \"Search documents in a vectorstore and return the most relevant based on a query\",\n",
    ")\n",
    "\n",
    "@tool\n",
    "def calculator(expression: str) -> str:\n",
    "    \"\"\"Calculate expression using Python's numexpr library.\n",
    "\n",
    "    Expression should be a single line mathematical expression\n",
    "    that solves the problem.\n",
    "\n",
    "    Examples:\n",
    "        \"37593 * 67\" for \"37593 times 67\"\n",
    "        \"37593**5\" for \"37593^5\"\n",
    "    \"\"\"\n",
    "    local_dict = {\"pi\": math.pi, \"e\": math.e}\n",
    "    return str(\n",
    "        numexpr.evaluate(\n",
    "            expression.strip(),\n",
    "            global_dict={},  # restrict access to globals\n",
    "            local_dict=local_dict,  # add common mathematical functions\n",
    "        )\n",
    "    )\n",
    "\n",
    "tools = [retriever_tool, calculator]"
   ]
  },
  {
   "cell_type": "code",
   "execution_count": 5,
   "metadata": {},
   "outputs": [],
   "source": [
    "class AgentState(TypedDict):\n",
    "    messages: Annotated[Sequence[BaseMessage], add_messages]\n",
    "    user_question: str\n",
    "    documents: List[str]"
   ]
  },
  {
   "cell_type": "code",
   "execution_count": 6,
   "metadata": {},
   "outputs": [],
   "source": [
    "memory = MemorySaver()"
   ]
  },
  {
   "cell_type": "code",
   "execution_count": 7,
   "metadata": {},
   "outputs": [],
   "source": [
    "def grade_documents(state) -> Literal[\"generate\", \"rewrite\"]:\n",
    "    \"\"\"\n",
    "    Determines whether the retrieved documents are relevant to the question.\n",
    "\n",
    "    Args:\n",
    "        state (messages): The current state\n",
    "\n",
    "    Returns:\n",
    "        str: A decision for whether the documents are relevant or not\n",
    "    \"\"\"\n",
    "\n",
    "    print(\"---CHECK RELEVANCE---\")\n",
    "\n",
    "    # Data model\n",
    "    class grade(BaseModel):\n",
    "        \"\"\"Binary score for relevance check.\"\"\"\n",
    "\n",
    "        binary_score: str = Field(description=\"Relevance score 'yes' or 'no'\")\n",
    "\n",
    "    # LLM\n",
    "    model = ChatOllama(model=\"llama3.2:3b-instruct-fp16\", temperature=0)\n",
    "\n",
    "    # LLM with tool and validation\n",
    "    llm_with_tool = model.with_structured_output(grade)\n",
    "\n",
    "    # Prompt\n",
    "    prompt = PromptTemplate(\n",
    "        template=\"\"\"You are a grader assessing relevance of a retrieved document to a user question. \\n \n",
    "        Here is the retrieved document: \\n\\n {context} \\n\\n\n",
    "        Here is the user question: {question} \\n\n",
    "        If the document contains keyword(s) or semantic meaning related to the user question, grade it as relevant. \\n\n",
    "        Give a binary score 'yes' or 'no' score to indicate whether the document is relevant to the question.\"\"\",\n",
    "        input_variables=[\"context\", \"question\"],\n",
    "    )\n",
    "\n",
    "    # Chain\n",
    "    chain = prompt | llm_with_tool\n",
    "\n",
    "    messages = state[\"messages\"]\n",
    "    last_message = messages[-1]\n",
    "\n",
    "    question = messages[0].content\n",
    "    docs = last_message.content\n",
    "\n",
    "    scored_result = chain.invoke({\"question\": question, \"context\": docs})\n",
    "\n",
    "    score = scored_result.binary_score\n",
    "\n",
    "    if score == \"yes\":\n",
    "        print(\"---DECISION: DOCS RELEVANT---\")\n",
    "        return \"generate\"\n",
    "\n",
    "    else:\n",
    "        print(\"---DECISION: DOCS NOT RELEVANT---\")\n",
    "        print(score)\n",
    "        return \"rewrite\"\n",
    "\n",
    "\n",
    "### Nodes\n",
    "\n",
    "\n",
    "def agent(state):\n",
    "    \"\"\"\n",
    "    Invokes the agent model to generate a response based on the current state. Given\n",
    "    the question, it will decide to retrieve using the retriever tool, or simply end.\n",
    "\n",
    "    Args:\n",
    "        state (messages): The current state\n",
    "\n",
    "    Returns:\n",
    "        dict: The updated state with the agent response appended to messages\n",
    "    \"\"\"\n",
    "    print(\"---CALL AGENT---\")\n",
    "    messages = state[\"messages\"]\n",
    "    user_question = messages[-1].content\n",
    "    model = ChatOllama(model=\"llama3-groq-tool-use:8b-fp16\", temperature=0)\n",
    "    model = model.bind_tools(tools)\n",
    "    response = model.invoke(messages)\n",
    "    # We return a list, because this will get added to the existing list\n",
    "    return {\"messages\": [response], \"user_question\": user_question}\n",
    "\n",
    "\n",
    "def rewrite(state):\n",
    "    \"\"\"\n",
    "    Transform the query to produce a better question.\n",
    "\n",
    "    Args:\n",
    "        state (messages): The current state\n",
    "\n",
    "    Returns:\n",
    "        dict: The updated state with re-phrased question\n",
    "    \"\"\"\n",
    "\n",
    "    print(\"---TRANSFORM QUERY---\")\n",
    "    messages = state[\"messages\"]\n",
    "    question = messages[0].content\n",
    "    user_question = state[\"user_question\"]\n",
    "\n",
    "    msg = [\n",
    "        HumanMessage(\n",
    "            content=f\"\"\" \\n \n",
    "    Look at the input and try to reason about the underlying semantic intent / meaning. \\n \n",
    "    Here is the initial question:\n",
    "    \\n ------- \\n\n",
    "    {user_question} \n",
    "    \\n ------- \\n\n",
    "    Formulate an improved question: \"\"\",\n",
    "        )\n",
    "    ]\n",
    "\n",
    "    # Grader\n",
    "    model = ChatOllama(model=\"llama3.2:3b-instruct-fp16\", temperature=0)\n",
    "    response = model.invoke(msg)\n",
    "    return {\"messages\": [response]}\n",
    "\n",
    "\n",
    "def generate(state):\n",
    "    \"\"\"\n",
    "    Generate answer\n",
    "\n",
    "    Args:\n",
    "        state (messages): The current state\n",
    "\n",
    "    Returns:\n",
    "         dict: The updated state with re-phrased question\n",
    "    \"\"\"\n",
    "    print(\"---GENERATE---\")\n",
    "    messages = state[\"messages\"]\n",
    "    question = state[\"user_question\"]\n",
    "    last_message = messages[-1]\n",
    "\n",
    "    docs = last_message.content\n",
    "\n",
    "    # Prompt\n",
    "    prompt = hub.pull(\"rlm/rag-prompt\")\n",
    "\n",
    "    # LLM\n",
    "    llm = ChatOllama(model=\"llama3.2:3b-instruct-fp16\", temperature=0)\n",
    "\n",
    "    # Post-processing\n",
    "    def format_docs(docs):\n",
    "        return \"\\n\\n\".join(doc.page_content for doc in docs)\n",
    "\n",
    "    # Chain\n",
    "    rag_chain = prompt | llm | StrOutputParser()\n",
    "\n",
    "    # Run\n",
    "    response = rag_chain.invoke({\"context\": docs, \"question\": question})\n",
    "    return {\"messages\": [response]}"
   ]
  },
  {
   "cell_type": "code",
   "execution_count": 8,
   "metadata": {},
   "outputs": [],
   "source": [
    "config = {\"configurable\": {\"thread_id\": \"abc123\"}}"
   ]
  },
  {
   "cell_type": "code",
   "execution_count": 9,
   "metadata": {},
   "outputs": [],
   "source": [
    "model = ChatOllama(model=\"llama3-groq-tool-use:8b-fp16\", temperature=0)\n",
    "\n",
    "agent_executor = create_react_agent(model, tools, checkpointer=memory)"
   ]
  },
  {
   "cell_type": "code",
   "execution_count": 10,
   "metadata": {},
   "outputs": [
    {
     "data": {
      "image/png": "[encoded data removed]",
      "text/plain": [
       "<IPython.core.display.Image object>"
      ]
     },
     "metadata": {},
     "output_type": "display_data"
    }
   ],
   "source": [
    "try:\n",
    "    display(Image(agent_executor.get_graph(xray=True).draw_mermaid_png()))\n",
    "except Exception:\n",
    "    # This requires some extra dependencies and is optional\n",
    "    pass"
   ]
  },
  {
   "cell_type": "code",
   "execution_count": 13,
   "metadata": {},
   "outputs": [
    {
     "data": {
      "text/plain": [
       "{'name': 'retriever',\n",
       " 'args': {'query': 'multiple sclerosis treatments'},\n",
       " 'id': '9aaab786-d31c-4a40-9ff2-bc046eccba36',\n",
       " 'type': 'tool_call'}"
      ]
     },
     "execution_count": 13,
     "metadata": {},
     "output_type": "execute_result"
    }
   ],
   "source": [
    "model_with_tools = model.bind_tools(tools)\n",
    "\n",
    "out = model_with_tools.invoke([HumanMessage(content=\"Retrieve information about multiple sclerosis treatments\")])\n",
    "\n",
    "out.tool_calls[0]"
   ]
  },
  {
   "cell_type": "code",
   "execution_count": 115,
   "metadata": {},
   "outputs": [
    {
     "name": "stdout",
     "output_type": "stream",
     "text": [
      "\"Output from node 'agent':\"\n",
      "'---'\n",
      "{ 'messages': [ AIMessage(content=\"I'm doing well, thank you! How can I assist you today?\", additional_kwargs={}, response_metadata={'model': 'llama3-groq-tool-use:8b-fp16', 'created_at': '2024-12-09T14:27:11.4413267Z', 'done': True, 'done_reason': 'stop', 'total_duration': 3824093400, 'load_duration': 2971604800, 'prompt_eval_count': 420, 'prompt_eval_duration': 155000000, 'eval_count': 16, 'eval_duration': 395000000, 'message': Message(role='assistant', content=\"I'm doing well, thank you! How can I assist you today?\", images=None, tool_calls=None)}, id='run-5998c4b2-51a1-4fd1-bd6c-6f058397af8c-0', usage_metadata={'input_tokens': 420, 'output_tokens': 16, 'total_tokens': 436})]}\n",
      "'\\n---\\n'\n"
     ]
    }
   ],
   "source": [
    "import pprint\n",
    "\n",
    "inputs = {\n",
    "    \"messages\": [\n",
    "        (\"user\", \"Hi llama how are you?\"),\n",
    "    ]\n",
    "}\n",
    "for output in agent_executor.stream(inputs, config=config):\n",
    "    for key, value in output.items():\n",
    "        pprint.pprint(f\"Output from node '{key}':\")\n",
    "        pprint.pprint(\"---\")\n",
    "        pprint.pprint(value, indent=2, width=80, depth=None)\n",
    "    pprint.pprint(\"\\n---\\n\")"
   ]
  },
  {
   "cell_type": "code",
   "execution_count": 116,
   "metadata": {},
   "outputs": [
    {
     "name": "stdout",
     "output_type": "stream",
     "text": [
      "\"Output from node 'agent':\"\n",
      "'---'\n",
      "{ 'messages': [ AIMessage(content='Of course! What kind of documents are you looking for?', additional_kwargs={}, response_metadata={'model': 'llama3-groq-tool-use:8b-fp16', 'created_at': '2024-12-09T14:27:17.5065405Z', 'done': True, 'done_reason': 'stop', 'total_duration': 656965300, 'load_duration': 15294600, 'prompt_eval_count': 453, 'prompt_eval_duration': 309000000, 'eval_count': 13, 'eval_duration': 327000000, 'message': Message(role='assistant', content='Of course! What kind of documents are you looking for?', images=None, tool_calls=None)}, id='run-d27c72a4-df15-43d2-aec6-289d3f080bc9-0', usage_metadata={'input_tokens': 453, 'output_tokens': 13, 'total_tokens': 466})]}\n",
      "'\\n---\\n'\n"
     ]
    }
   ],
   "source": [
    "import pprint\n",
    "\n",
    "inputs = {\n",
    "    \"messages\": [\n",
    "        (\"user\", \"Could you help me with some documents?\"),\n",
    "    ]\n",
    "}\n",
    "for output in agent_executor.stream(inputs, config=config):\n",
    "    for key, value in output.items():\n",
    "        pprint.pprint(f\"Output from node '{key}':\")\n",
    "        pprint.pprint(\"---\")\n",
    "        pprint.pprint(value, indent=2, width=80, depth=None)\n",
    "    pprint.pprint(\"\\n---\\n\")"
   ]
  },
  {
   "cell_type": "code",
   "execution_count": 118,
   "metadata": {},
   "outputs": [
    {
     "name": "stdout",
     "output_type": "stream",
     "text": [
      "\"Output from node 'agent':\"\n",
      "'---'\n",
      "{ 'messages': [ AIMessage(content='', additional_kwargs={}, response_metadata={'model': 'llama3-groq-tool-use:8b-fp16', 'created_at': '2024-12-09T14:28:22.2028505Z', 'done': True, 'done_reason': 'stop', 'total_duration': 1240984900, 'load_duration': 14316700, 'prompt_eval_count': 1781, 'prompt_eval_duration': 351000000, 'eval_count': 32, 'eval_duration': 847000000, 'message': Message(role='assistant', content='', images=None, tool_calls=[ToolCall(function=Function(name='retriever', arguments={'query': 'treatments for multiple sclerosis'}))])}, id='run-70aa5225-e4b4-4f72-adb8-2aa175a8631a-0', tool_calls=[{'name': 'retriever', 'args': {'query': 'treatments for multiple sclerosis'}, 'id': '2bd06109-8eff-425d-abee-356e54b72255', 'type': 'tool_call'}], usage_metadata={'input_tokens': 1781, 'output_tokens': 32, 'total_tokens': 1813})]}\n",
      "'\\n---\\n'\n",
      "\"Output from node 'tools':\"\n",
      "'---'\n",
      "{ 'messages': [ ToolMessage(content='Abstract \\n \\nIn this article, I present the many symptomatic \\ntreatments available for multiple sclerosis (MS). \\nDisease-modifying drugs are not curative but can slow \\ndown or reduce the number and severity of relapses or \\ninflammation seen on MRI scans. They work the bett er \\nthe sooner they are started, but taking them later can \\nstill have benefits. These drugs/therapies can have side \\neffects, some serious, but not being treated entails the \\nrisk of more relapses and more long -term disability. \\nThere are 34 available such dru gs, all reviewed here, \\nwhich are taken either as a pill, an injection, or an \\ninfusion. Recent developments and emerging \\npharmacotherapies are also discussed as well as non -\\npharmacological therapies whose interventions for \\nchronic pain is insufficient to re commend them alone \\nincluding rehabilitation in its various forms (physical, \\ncognitive, occupational, speech language, vocational, \\nand palliative). Research on the immunobiology of MS\\n\\nAlain L. Fymat, J Neurol Psychol Res (2023), 4:1  \\nP a g e  | 1 \\n \\n \\nJ Neurol Psychol Res, an open access Journal  Volume 4 • Issue 1 • 2023 \\nAbbreviations \\nJOURNAL OF NEUROLOGY AND \\nPSYCHOLOGY RESEARCH \\n  \\n \\nMultiple Sclerosis: III. Treatment and P rognosis   \\nDr. Alain L. Fymat* \\nProfessor, International Institute of Medicine & Science, California, USA. \\n \\nReceived date: May 23, 2023, Accepted date: May 30, 2023, Published date: June 06, 2023. \\n \\nCopyright: ©2023 Dr. Alain L. Fymat. This is an open-access article distributed under the terms of the Creative \\nCommons Attribution License, which permits unrestricted use, distribution, and reproduction in any medium, provided \\nthe original author and source are credited. \\n \\n*Corresponding Author: Dr. Alain L. Professor, International Institute of Medicine & Science, California, USA. \\n  \\nAbstract \\n \\nIn this article, I present the many symptomatic \\ntreatments available for multiple sclerosis (MS).\\n\\nment [58]. Newer MRI techniques, including magneti-\\nzation transfer imaging, diﬀusion tensor imaging and\\nfunctional MRI are providing insights into disease\\nwith widespread abnormalities outside of focal lesion\\ndevelopment [59]; however, these techniques are not\\nyet in routine clinical practice.\\nTreatment and management of MS\\nThe treatment of MS can be divided into disease-mod-\\nifying therapies that tend to be MS-speciﬁc and symp-\\ntomatic therapies that are often used in diﬀerent\\ndisease areas to treat symptoms resulting from neuro-\\nlogical dysfunction.\\nDisease-modifying therapies\\nAs the number, and eﬃcacy, of disease-modifying\\ntherapies has increased, interest in early treatment of\\nMS in order to prevent long-term disability has\\ngrown. Historically, treatments have been immuno-\\nsuppressant (including ﬁngolimod, natalizumab, ocre-\\nlizumab) or immunomodulatory (such as interferon\\nbeta, glatiramer acetate, teriﬂunomide), meaning that\\nongoing treatment is required to maintain suppression\\n\\nment [58]. Newer MRI techniques, including magneti-\\nzation transfer imaging, diﬀusion tensor imaging and\\nfunctional MRI are providing insights into disease\\nwith widespread abnormalities outside of focal lesion\\ndevelopment [59]; however, these techniques are not\\nyet in routine clinical practice.\\nTreatment and management of MS\\nThe treatment of MS can be divided into disease-mod-\\nifying therapies that tend to be MS-speciﬁc and symp-\\ntomatic therapies that are often used in diﬀerent\\ndisease areas to treat symptoms resulting from neuro-\\nlogical dysfunction.\\nDisease-modifying therapies\\nAs the number, and eﬃcacy, of disease-modifying\\ntherapies has increased, interest in early treatment of\\nMS in order to prevent long-term disability has\\ngrown. Historically, treatments have been immuno-\\nsuppressant (including ﬁngolimod, natalizumab, ocre-\\nlizumab) or immunomodulatory (such as interferon\\nbeta, glatiramer acetate, teriﬂunomide), meaning that\\nongoing treatment is required to maintain suppression\\n\\npeople living with MS to personalize their treatment. In \\nthis article, I will discuss at length all currently \\navailable DMD/Ts f or the several MS types including \\ntheir prescription guidelines, benefits, adverse effects, \\nand associated recent developments and em erging \\npharmacotherapies. I will  further present non -\\npharmacological therapies, immunotherapies, and \\nautologous stem cell t herapies and lastly elaborate on \\nthe prognosis and future outlook for the disease. \\n \\n \\n \\nAs seen in part II in this series, the symptoms and \\nprogression of demyelinating diseases vary between \\npatients. There are many treatments, including drugs, \\ndevices, and therapies that can help with symptoms \\nfrom muscle pain, stiffness, spasms, and poor balance to \\nincontinence issues, difficulties with speech, \\nswallowing, sight, memory and thinking, and sexual \\nfunction. Early diagn osis and discussion of treatment \\noptions is important. Irrespectively, emphasis is on', name='retriever', id='13bff5db-b42d-4a10-b6ed-b9a8baf62400', tool_call_id='2bd06109-8eff-425d-abee-356e54b72255')]}\n",
      "'\\n---\\n'\n",
      "\"Output from node 'agent':\"\n",
      "'---'\n",
      "{ 'messages': [ AIMessage(content='The article discusses various disease-modifying drugs (DMDs) for multiple sclerosis, including immunosuppressants like fingolimod, natalizumab, and ocrelizumab, and immunomodulatory agents such as interferon beta, glatiramer acetate, and teriflunomide. It highlights the importance of early treatment to prevent long-term disability and mentions ongoing research into emerging pharmacotherapies and non-pharmacological therapies for symptom management.', additional_kwargs={}, response_metadata={'model': 'llama3-groq-tool-use:8b-fp16', 'created_at': '2024-12-09T14:28:25.284512Z', 'done': True, 'done_reason': 'stop', 'total_duration': 3045252300, 'load_duration': 15720600, 'prompt_eval_count': 1523, 'prompt_eval_duration': 288000000, 'eval_count': 102, 'eval_duration': 2732000000, 'message': Message(role='assistant', content='The article discusses various disease-modifying drugs (DMDs) for multiple sclerosis, including immunosuppressants like fingolimod, natalizumab, and ocrelizumab, and immunomodulatory agents such as interferon beta, glatiramer acetate, and teriflunomide. It highlights the importance of early treatment to prevent long-term disability and mentions ongoing research into emerging pharmacotherapies and non-pharmacological therapies for symptom management.', images=None, tool_calls=None)}, id='run-0554e493-925e-426b-a9ad-8548e69da560-0', usage_metadata={'input_tokens': 1523, 'output_tokens': 102, 'total_tokens': 1625})]}\n",
      "'\\n---\\n'\n"
     ]
    }
   ],
   "source": [
    "import pprint\n",
    "\n",
    "inputs = {\n",
    "    \"messages\": [\n",
    "        (\"user\", \"Yes, tell me more about the available treatments\"),\n",
    "    ]\n",
    "}\n",
    "for output in agent_executor.stream(inputs, config=config):\n",
    "    for key, value in output.items():\n",
    "        pprint.pprint(f\"Output from node '{key}':\")\n",
    "        pprint.pprint(\"---\")\n",
    "        pprint.pprint(value, indent=2, width=80, depth=None)\n",
    "    pprint.pprint(\"\\n---\\n\")"
   ]
  },
  {
   "cell_type": "code",
   "execution_count": 123,
   "metadata": {},
   "outputs": [
    {
     "name": "stdout",
     "output_type": "stream",
     "text": [
      "\"Output from node 'agent':\"\n",
      "'---'\n",
      "{ 'messages': [ AIMessage(content='', additional_kwargs={}, response_metadata={'model': 'llama3-groq-tool-use:8b-fp16', 'created_at': '2024-12-09T14:55:32.2723442Z', 'done': True, 'done_reason': 'stop', 'total_duration': 899697400, 'load_duration': 15393100, 'prompt_eval_count': 2016, 'prompt_eval_duration': 224000000, 'eval_count': 23, 'eval_duration': 639000000, 'message': Message(role='assistant', content='', images=None, tool_calls=[ToolCall(function=Function(name='calculator', arguments={'expression': '16.5 / 4'}))])}, id='run-a363a938-2aac-44fa-9988-b9142a8a89d8-0', tool_calls=[{'name': 'calculator', 'args': {'expression': '16.5 / 4'}, 'id': '66534187-2b26-481e-b475-3b03901628d5', 'type': 'tool_call'}], usage_metadata={'input_tokens': 2016, 'output_tokens': 23, 'total_tokens': 2039})]}\n",
      "'\\n---\\n'\n",
      "\"Output from node 'tools':\"\n",
      "'---'\n",
      "{ 'messages': [ ToolMessage(content='4.125', name='calculator', id='fadabbae-39a2-43ae-a2f4-988fbb114668', tool_call_id='66534187-2b26-481e-b475-3b03901628d5')]}\n",
      "'\\n---\\n'\n",
      "\"Output from node 'agent':\"\n",
      "'---'\n",
      "{ 'messages': [ AIMessage(content='The result of dividing 16.5 by 4 is 4.125.', additional_kwargs={}, response_metadata={'model': 'llama3-groq-tool-use:8b-fp16', 'created_at': '2024-12-09T14:55:33.2817891Z', 'done': True, 'done_reason': 'stop', 'total_duration': 1002248700, 'load_duration': 15699000, 'prompt_eval_count': 1995, 'prompt_eval_duration': 448000000, 'eval_count': 18, 'eval_duration': 520000000, 'message': Message(role='assistant', content='The result of dividing 16.5 by 4 is 4.125.', images=None, tool_calls=None)}, id='run-752929e4-2c1d-495b-8e6b-be62a4f5df3e-0', usage_metadata={'input_tokens': 1995, 'output_tokens': 18, 'total_tokens': 2013})]}\n",
      "'\\n---\\n'\n"
     ]
    }
   ],
   "source": [
    "import pprint\n",
    "\n",
    "inputs = {\n",
    "    \"messages\": [\n",
    "        (\"user\", \"Divide that by 4\"),\n",
    "    ]\n",
    "}\n",
    "for output in agent_executor.stream(inputs, config=config):\n",
    "    for key, value in output.items():\n",
    "        pprint.pprint(f\"Output from node '{key}':\")\n",
    "        pprint.pprint(\"---\")\n",
    "        pprint.pprint(value, indent=2, width=80, depth=None)\n",
    "    pprint.pprint(\"\\n---\\n\")"
   ]
  },
  {
   "cell_type": "code",
   "execution_count": 107,
   "metadata": {},
   "outputs": [
    {
     "ename": "TypeError",
     "evalue": "Expected a Runnable, callable or dict.Instead got an unsupported type: <class 'str'>",
     "output_type": "error",
     "traceback": [
      "\u001b[1;31m---------------------------------------------------------------------------\u001b[0m",
      "\u001b[1;31mTypeError\u001b[0m                                 Traceback (most recent call last)",
      "Cell \u001b[1;32mIn[107], line 33\u001b[0m\n\u001b[0;32m     16\u001b[0m workflow\u001b[38;5;241m.\u001b[39madd_conditional_edges(\n\u001b[0;32m     17\u001b[0m     \u001b[38;5;124m\"\u001b[39m\u001b[38;5;124magent\u001b[39m\u001b[38;5;124m\"\u001b[39m,\n\u001b[0;32m     18\u001b[0m     \u001b[38;5;66;03m# Assess agent decision\u001b[39;00m\n\u001b[1;32m   (...)\u001b[0m\n\u001b[0;32m     24\u001b[0m     },\n\u001b[0;32m     25\u001b[0m )\n\u001b[0;32m     27\u001b[0m \u001b[38;5;66;03m# Edges taken after the `action` node is called.\u001b[39;00m\n\u001b[0;32m     28\u001b[0m \u001b[38;5;66;03m# workflow.add_conditional_edges(\u001b[39;00m\n\u001b[0;32m     29\u001b[0m \u001b[38;5;66;03m#     \"retrieve\",\u001b[39;00m\n\u001b[0;32m     30\u001b[0m \u001b[38;5;66;03m#     # Assess agent decision\u001b[39;00m\n\u001b[0;32m     31\u001b[0m \u001b[38;5;66;03m#     grade_documents,\u001b[39;00m\n\u001b[0;32m     32\u001b[0m \u001b[38;5;66;03m# )\u001b[39;00m\n\u001b[1;32m---> 33\u001b[0m \u001b[43mworkflow\u001b[49m\u001b[38;5;241;43m.\u001b[39;49m\u001b[43madd_conditional_edges\u001b[49m\u001b[43m(\u001b[49m\u001b[38;5;124;43m\"\u001b[39;49m\u001b[38;5;124;43mtools\u001b[39;49m\u001b[38;5;124;43m\"\u001b[39;49m\u001b[43m,\u001b[49m\u001b[43m \u001b[49m\u001b[38;5;124;43m\"\u001b[39;49m\u001b[38;5;124;43mgenerate\u001b[39;49m\u001b[38;5;124;43m\"\u001b[39;49m\u001b[43m)\u001b[49m\n\u001b[0;32m     34\u001b[0m workflow\u001b[38;5;241m.\u001b[39madd_edge(\u001b[38;5;124m\"\u001b[39m\u001b[38;5;124mtools\u001b[39m\u001b[38;5;124m\"\u001b[39m, END)\n\u001b[0;32m     35\u001b[0m \u001b[38;5;66;03m# workflow.add_edge(\"rewrite\", \"agent\")\u001b[39;00m\n\u001b[0;32m     36\u001b[0m \n\u001b[0;32m     37\u001b[0m \u001b[38;5;66;03m# Compile\u001b[39;00m\n",
      "File \u001b[1;32mc:\\Users\\Carlini\\miniconda3\\envs\\llama\\Lib\\site-packages\\langgraph\\graph\\graph.py:291\u001b[0m, in \u001b[0;36mGraph.add_conditional_edges\u001b[1;34m(self, source, path, path_map, then)\u001b[0m\n\u001b[0;32m    289\u001b[0m     path_map_ \u001b[38;5;241m=\u001b[39m \u001b[38;5;28;01mNone\u001b[39;00m\n\u001b[0;32m    290\u001b[0m \u001b[38;5;66;03m# find a name for the condition\u001b[39;00m\n\u001b[1;32m--> 291\u001b[0m path \u001b[38;5;241m=\u001b[39m \u001b[43mcoerce_to_runnable\u001b[49m\u001b[43m(\u001b[49m\u001b[43mpath\u001b[49m\u001b[43m,\u001b[49m\u001b[43m \u001b[49m\u001b[43mname\u001b[49m\u001b[38;5;241;43m=\u001b[39;49m\u001b[38;5;28;43;01mNone\u001b[39;49;00m\u001b[43m,\u001b[49m\u001b[43m \u001b[49m\u001b[43mtrace\u001b[49m\u001b[38;5;241;43m=\u001b[39;49m\u001b[38;5;28;43;01mTrue\u001b[39;49;00m\u001b[43m)\u001b[49m\n\u001b[0;32m    292\u001b[0m name \u001b[38;5;241m=\u001b[39m path\u001b[38;5;241m.\u001b[39mname \u001b[38;5;129;01mor\u001b[39;00m \u001b[38;5;124m\"\u001b[39m\u001b[38;5;124mcondition\u001b[39m\u001b[38;5;124m\"\u001b[39m\n\u001b[0;32m    293\u001b[0m \u001b[38;5;66;03m# validate the condition\u001b[39;00m\n",
      "File \u001b[1;32mc:\\Users\\Carlini\\miniconda3\\envs\\llama\\Lib\\site-packages\\langgraph\\utils\\runnable.py:294\u001b[0m, in \u001b[0;36mcoerce_to_runnable\u001b[1;34m(thing, name, trace)\u001b[0m\n\u001b[0;32m    292\u001b[0m     \u001b[38;5;28;01mreturn\u001b[39;00m RunnableParallel(thing)\n\u001b[0;32m    293\u001b[0m \u001b[38;5;28;01melse\u001b[39;00m:\n\u001b[1;32m--> 294\u001b[0m     \u001b[38;5;28;01mraise\u001b[39;00m \u001b[38;5;167;01mTypeError\u001b[39;00m(\n\u001b[0;32m    295\u001b[0m         \u001b[38;5;124mf\u001b[39m\u001b[38;5;124m\"\u001b[39m\u001b[38;5;124mExpected a Runnable, callable or dict.\u001b[39m\u001b[38;5;124m\"\u001b[39m\n\u001b[0;32m    296\u001b[0m         \u001b[38;5;124mf\u001b[39m\u001b[38;5;124m\"\u001b[39m\u001b[38;5;124mInstead got an unsupported type: \u001b[39m\u001b[38;5;132;01m{\u001b[39;00m\u001b[38;5;28mtype\u001b[39m(thing)\u001b[38;5;132;01m}\u001b[39;00m\u001b[38;5;124m\"\u001b[39m\n\u001b[0;32m    297\u001b[0m     )\n",
      "\u001b[1;31mTypeError\u001b[0m: Expected a Runnable, callable or dict.Instead got an unsupported type: <class 'str'>"
     ]
    }
   ],
   "source": [
    "# Define a new graph\n",
    "workflow = StateGraph(AgentState)\n",
    "\n",
    "# Define the nodes we will cycle between\n",
    "workflow.add_node(\"agent\", agent)  # agent\n",
    "tools_node = ToolNode(tools)\n",
    "workflow.add_node(\"tools\", tools_node)\n",
    "# workflow.add_node(\"rewrite\", rewrite)  # Re-writing the question\n",
    "workflow.add_node(\n",
    "    \"generate\", generate\n",
    ")  # Generating a response after we know the documents are relevant\n",
    "# Call agent node to decide to retrieve or not\n",
    "workflow.add_edge(START, \"agent\")\n",
    "\n",
    "# Decide whether to retrieve\n",
    "workflow.add_conditional_edges(\n",
    "    \"agent\",\n",
    "    # Assess agent decision\n",
    "    tools_condition,\n",
    "    {\n",
    "        # Translate the condition outputs to nodes in our graph\n",
    "        \"tools\": \"tools\",\n",
    "        END: END,\n",
    "    },\n",
    ")\n",
    "\n",
    "# Edges taken after the `action` node is called.\n",
    "# workflow.add_conditional_edges(\n",
    "#     \"retrieve\",\n",
    "#     # Assess agent decision\n",
    "#     grade_documents,\n",
    "# )\n",
    "workflow.add_conditional_edges(\"tools\", \"generate\")\n",
    "workflow.add_edge(\"tools\", END)\n",
    "# workflow.add_edge(\"rewrite\", \"agent\")\n",
    "\n",
    "# Compile\n",
    "graph = workflow.compile(checkpointer=memory)\n",
    "config = {\"configurable\": {\"thread_id\": \"abc123\"}}"
   ]
  },
  {
   "cell_type": "code",
   "execution_count": 102,
   "metadata": {},
   "outputs": [
    {
     "data": {
      "image/png": "[encoded data removed]",
      "text/plain": [
       "<IPython.core.display.Image object>"
      ]
     },
     "metadata": {},
     "output_type": "display_data"
    }
   ],
   "source": [
    "try:\n",
    "    display(Image(graph.get_graph(xray=True).draw_mermaid_png()))\n",
    "except Exception:\n",
    "    # This requires some extra dependencies and is optional\n",
    "    pass"
   ]
  },
  {
   "cell_type": "code",
   "execution_count": 103,
   "metadata": {},
   "outputs": [
    {
     "name": "stdout",
     "output_type": "stream",
     "text": [
      "---CALL AGENT---\n",
      "\"Output from node 'agent':\"\n",
      "'---'\n",
      "{ 'messages': [ AIMessage(content=\"I'm doing well, thank you! How can I assist you today?\", additional_kwargs={}, response_metadata={'model': 'llama3-groq-tool-use:8b-fp16', 'created_at': '2024-12-09T12:17:44.124041Z', 'done': True, 'done_reason': 'stop', 'total_duration': 795489700, 'load_duration': 14565500, 'prompt_eval_count': 258, 'prompt_eval_duration': 361000000, 'eval_count': 16, 'eval_duration': 418000000, 'message': Message(role='assistant', content=\"I'm doing well, thank you! How can I assist you today?\", images=None, tool_calls=None)}, id='run-354c87f8-7311-436a-bdf4-d29395e13740-0', usage_metadata={'input_tokens': 258, 'output_tokens': 16, 'total_tokens': 274})],\n",
      "  'user_question': 'Hi llama how are you?'}\n",
      "'\\n---\\n'\n"
     ]
    }
   ],
   "source": [
    "import pprint\n",
    "\n",
    "inputs = {\n",
    "    \"messages\": [\n",
    "        (\"user\", \"Hi llama how are you?\"),\n",
    "    ]\n",
    "}\n",
    "for output in graph.stream(inputs, config=config):\n",
    "    for key, value in output.items():\n",
    "        pprint.pprint(f\"Output from node '{key}':\")\n",
    "        pprint.pprint(\"---\")\n",
    "        pprint.pprint(value, indent=2, width=80, depth=None)\n",
    "    pprint.pprint(\"\\n---\\n\")"
   ]
  },
  {
   "cell_type": "code",
   "execution_count": 104,
   "metadata": {},
   "outputs": [
    {
     "name": "stdout",
     "output_type": "stream",
     "text": [
      "---CALL AGENT---\n",
      "\"Output from node 'agent':\"\n",
      "'---'\n",
      "{ 'messages': [ AIMessage(content='Of course! What kind of documents are you looking for?', additional_kwargs={}, response_metadata={'model': 'llama3-groq-tool-use:8b-fp16', 'created_at': '2024-12-09T12:17:44.8255367Z', 'done': True, 'done_reason': 'stop', 'total_duration': 363288000, 'load_duration': 14868700, 'prompt_eval_count': 291, 'prompt_eval_duration': 12000000, 'eval_count': 13, 'eval_duration': 335000000, 'message': Message(role='assistant', content='Of course! What kind of documents are you looking for?', images=None, tool_calls=None)}, id='run-d90aafcd-57e0-4980-b5fb-ae1b158f5cdd-0', usage_metadata={'input_tokens': 291, 'output_tokens': 13, 'total_tokens': 304})],\n",
      "  'user_question': 'Could you help me with some documents?'}\n",
      "'\\n---\\n'\n"
     ]
    }
   ],
   "source": [
    "import pprint\n",
    "\n",
    "inputs = {\n",
    "    \"messages\": [\n",
    "        (\"user\", \"Could you help me with some documents?\"),\n",
    "    ]\n",
    "}\n",
    "for output in graph.stream(inputs, config=config):\n",
    "    for key, value in output.items():\n",
    "        pprint.pprint(f\"Output from node '{key}':\")\n",
    "        pprint.pprint(\"---\")\n",
    "        pprint.pprint(value, indent=2, width=80, depth=None)\n",
    "    pprint.pprint(\"\\n---\\n\")"
   ]
  },
  {
   "cell_type": "code",
   "execution_count": 105,
   "metadata": {},
   "outputs": [
    {
     "name": "stdout",
     "output_type": "stream",
     "text": [
      "---CALL AGENT---\n",
      "\"Output from node 'agent':\"\n",
      "'---'\n",
      "{ 'messages': [ AIMessage(content='', additional_kwargs={}, response_metadata={'model': 'llama3-groq-tool-use:8b-fp16', 'created_at': '2024-12-09T12:17:50.4929641Z', 'done': True, 'done_reason': 'stop', 'total_duration': 830122800, 'load_duration': 14674100, 'prompt_eval_count': 326, 'prompt_eval_duration': 41000000, 'eval_count': 29, 'eval_duration': 772000000, 'message': Message(role='assistant', content='', images=None, tool_calls=[ToolCall(function=Function(name='calculator', arguments={'expression': '0.41**3'}))])}, id='run-1c0c5a8f-4790-4c4d-b1dc-76e83f4cd213-0', tool_calls=[{'name': 'calculator', 'args': {'expression': '0.41**3'}, 'id': 'b5b5e563-8763-4326-9cd1-7757db89d2f2', 'type': 'tool_call'}], usage_metadata={'input_tokens': 326, 'output_tokens': 29, 'total_tokens': 355})],\n",
      "  'user_question': \"what's 0.41 to the power of 3?\"}\n",
      "'\\n---\\n'\n",
      "\"Output from node 'tools':\"\n",
      "'---'\n",
      "{ 'messages': [ ToolMessage(content='0.06892099999999998', name='calculator', id='8956f09d-3d7c-4ec1-9954-5593eaec3c2a', tool_call_id='b5b5e563-8763-4326-9cd1-7757db89d2f2')]}\n",
      "'\\n---\\n'\n",
      "---GENERATE---\n"
     ]
    },
    {
     "name": "stderr",
     "output_type": "stream",
     "text": [
      "c:\\Users\\Carlini\\miniconda3\\envs\\llama\\Lib\\site-packages\\langsmith\\client.py:241: LangSmithMissingAPIKeyWarning: API key must be provided when using hosted LangSmith API\n",
      "  warnings.warn(\n"
     ]
    },
    {
     "name": "stdout",
     "output_type": "stream",
     "text": [
      "\"Output from node 'generate':\"\n",
      "'---'\n",
      "{ 'messages': [ \"I don't have enough context to calculate the correct result, \"\n",
      "                'but I can tell you that 0.41 raised to the power of 3 is '\n",
      "                'approximately equal to the given value in the context.']}\n",
      "'\\n---\\n'\n"
     ]
    }
   ],
   "source": [
    "import pprint\n",
    "\n",
    "inputs = {\n",
    "    \"messages\": [\n",
    "        (\"user\", \"what's 0.41 to the power of 3?\"),\n",
    "    ]\n",
    "}\n",
    "for output in graph.stream(inputs, config=config):\n",
    "    for key, value in output.items():\n",
    "        pprint.pprint(f\"Output from node '{key}':\")\n",
    "        pprint.pprint(\"---\")\n",
    "        pprint.pprint(value, indent=2, width=80, depth=None)\n",
    "    pprint.pprint(\"\\n---\\n\")"
   ]
  },
  {
   "cell_type": "code",
   "execution_count": null,
   "metadata": {},
   "outputs": [],
   "source": []
  }
 ],
 "metadata": {
  "kernelspec": {
   "display_name": "llama",
   "language": "python",
   "name": "python3"
  },
  "language_info": {
   "codemirror_mode": {
    "name": "ipython",
    "version": 3
   },
   "file_extension": ".py",
   "mimetype": "text/x-python",
   "name": "python",
   "nbconvert_exporter": "python",
   "pygments_lexer": "ipython3",
   "version": "3.11.10"
  }
 },
 "nbformat": 4,
 "nbformat_minor": 2
}
